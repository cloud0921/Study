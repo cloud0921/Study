{
 "cells": [
  {
   "cell_type": "code",
   "execution_count": 3,
   "metadata": {},
   "outputs": [],
   "source": [
    "from tensorflow.keras.models import Sequential\n",
    "from tensorflow.keras.layers import Dense, Activation, Dropout, Flatten, Conv2D, MaxPooling2D\n",
    "from tensorflow.keras.preprocessing.image import ImageDataGenerator\n",
    "from tensorflow.keras.callbacks import EarlyStopping\n",
    "from tensorflow.keras import optimizers\n",
    "\n",
    "import numpy as np\n",
    "import matplotlib.pyplot as plt"
   ]
  },
  {
   "cell_type": "code",
   "execution_count": 4,
   "metadata": {},
   "outputs": [
    {
     "name": "stderr",
     "output_type": "stream",
     "text": [
      "fatal: destination path 'data-ch20' already exists and is not an empty directory.\n"
     ]
    }
   ],
   "source": [
    "# 깃허브에 준비된 데이터를 가져옵니다.\n",
    "!git clone https://github.com/taehojo/data-ch20.git"
   ]
  },
  {
   "cell_type": "code",
   "execution_count": 5,
   "metadata": {},
   "outputs": [],
   "source": [
    "# 학습셋의 변형을 설정하는 부분입니다.\n",
    "train_datagen = ImageDataGenerator(rescale=1./255, # 주어진 이미지 크기를 설정\n",
    "    horizontal_flip=True,   # 수평 대칭 이미지를 50% 확률로 만들어 추가합니다.\n",
    "    width_shift_range=0.1,  # 전체 크기의 15% 범위에서 좌우로 이동합니다.\n",
    "    height_shift_range=0.1, # 마찬가지로 위아래로 이동합니다.\n",
    "    #rotation_range=5,      # 정해진 각도만큼 회전시킵니다.\n",
    "    #shear_range=0.7,       # 좌표 하나를 고정시키고 나머지를 이동시킵니다.\n",
    "    #zoom_range=[0.9, 2.2], # 확대 또는 축소시킵니다.\n",
    "    #vertical_flip=True,    # 수직 대칭 이미지를 만듭니다.\n",
    "    #fill_mode='nearest'    # 빈 공간을 채우는 방법입니다.\n",
    "                            # nearest 옵션은 가장 비슷한 색으로 채우게 됩니다.\n",
    "    ) "
   ]
  },
  {
   "cell_type": "code",
   "execution_count": 6,
   "metadata": {},
   "outputs": [
    {
     "name": "stdout",
     "output_type": "stream",
     "text": [
      "Found 160 images belonging to 2 classes.\n"
     ]
    }
   ],
   "source": [
    "train_generator = train_datagen.flow_from_directory(\n",
    "    './data-ch20/train',    # 학습셋이 있는 폴더의 위치입니다.\n",
    "    target_size=(150,150),\n",
    "    batch_size=5,\n",
    "    class_mode='binary')"
   ]
  },
  {
   "cell_type": "code",
   "execution_count": 7,
   "metadata": {},
   "outputs": [],
   "source": [
    "# 테스트셋은 이미지 부풀리기 과정을 진행하지 않습니다.\n",
    "test_datagen = ImageDataGenerator(rescale=1./255)  "
   ]
  },
  {
   "cell_type": "code",
   "execution_count": 8,
   "metadata": {},
   "outputs": [
    {
     "name": "stdout",
     "output_type": "stream",
     "text": [
      "Found 120 images belonging to 2 classes.\n"
     ]
    }
   ],
   "source": [
    "test_generator = test_datagen.flow_from_directory(\n",
    "    './data-ch20/test',     # 테스트셋이 있는 폴더의 위치입니다.\n",
    "    target_size=(150,150),\n",
    "    batch_size=5,\n",
    "    class_mode='binary')"
   ]
  },
  {
   "cell_type": "code",
   "execution_count": 9,
   "metadata": {},
   "outputs": [],
   "source": [
    "# 앞서 배운 CNN 모델을 만들어 적용해 보겠습니다.\n",
    "model = Sequential()\n",
    "model.add(Conv2D(32, (3, 3), input_shape=(150,150,3)))\n",
    "model.add(Activation('relu'))\n",
    "model.add(MaxPooling2D(pool_size=(2,2)))\n",
    "\n",
    "model.add(Conv2D(32, (3, 3)))\n",
    "model.add(Activation('relu'))\n",
    "model.add(MaxPooling2D(pool_size=(2,2)))\n",
    "\n",
    "model.add(Conv2D(64, (3, 3)))\n",
    "model.add(Activation('relu'))\n",
    "model.add(MaxPooling2D(pool_size=(2,2)))\n",
    "\n",
    "model.add(Flatten())\n",
    "model.add(Dense(64))\n",
    "model.add(Activation('relu'))\n",
    "model.add(Dropout(0.5))\n",
    "model.add(Dense(1))\n",
    "model.add(Activation('sigmoid'))"
   ]
  },
  {
   "cell_type": "code",
   "execution_count": 10,
   "metadata": {},
   "outputs": [],
   "source": [
    "# 모델 실행의 옵션을 설정합니다. \n",
    "model.compile(loss='binary_crossentropy', optimizer=optimizers.Adam\n",
    "(learning_rate=0.0002), metrics=['accuracy'])\n"
   ]
  },
  {
   "cell_type": "code",
   "execution_count": 11,
   "metadata": {},
   "outputs": [],
   "source": [
    "# 학습의 조기 중단을 설정합니다.\n",
    "early_stopping_callback = EarlyStopping(monitor='val_loss', patience=5)"
   ]
  },
  {
   "cell_type": "code",
   "execution_count": 12,
   "metadata": {},
   "outputs": [
    {
     "name": "stdout",
     "output_type": "stream",
     "text": [
      "Epoch 1/100\n",
      "32/32 [==============================] - 3s 64ms/step - loss: 0.7119 - accuracy: 0.4938 - val_loss: 0.6927 - val_accuracy: 0.5200\n",
      "Epoch 2/100\n",
      "32/32 [==============================] - 1s 39ms/step - loss: 0.6935 - accuracy: 0.5375 - val_loss: 0.7008 - val_accuracy: 0.3600\n",
      "Epoch 3/100\n",
      "32/32 [==============================] - 1s 36ms/step - loss: 0.6931 - accuracy: 0.4938 - val_loss: 0.6886 - val_accuracy: 0.4800\n",
      "Epoch 4/100\n",
      "32/32 [==============================] - 1s 35ms/step - loss: 0.6889 - accuracy: 0.5625 - val_loss: 0.6946 - val_accuracy: 0.4200\n",
      "Epoch 5/100\n",
      "32/32 [==============================] - 1s 35ms/step - loss: 0.6874 - accuracy: 0.5813 - val_loss: 0.6764 - val_accuracy: 0.5000\n",
      "Epoch 6/100\n",
      "32/32 [==============================] - 1s 35ms/step - loss: 0.6675 - accuracy: 0.6500 - val_loss: 0.6604 - val_accuracy: 0.6800\n",
      "Epoch 7/100\n",
      "32/32 [==============================] - 1s 34ms/step - loss: 0.6730 - accuracy: 0.6125 - val_loss: 0.6359 - val_accuracy: 0.8200\n",
      "Epoch 8/100\n",
      "32/32 [==============================] - 1s 35ms/step - loss: 0.6439 - accuracy: 0.6562 - val_loss: 0.6027 - val_accuracy: 0.8200\n",
      "Epoch 9/100\n",
      "32/32 [==============================] - 1s 35ms/step - loss: 0.6039 - accuracy: 0.7063 - val_loss: 0.5666 - val_accuracy: 0.8200\n",
      "Epoch 10/100\n",
      "32/32 [==============================] - 1s 34ms/step - loss: 0.5428 - accuracy: 0.7375 - val_loss: 0.5003 - val_accuracy: 0.8000\n",
      "Epoch 11/100\n",
      "32/32 [==============================] - 1s 34ms/step - loss: 0.5482 - accuracy: 0.7812 - val_loss: 0.4422 - val_accuracy: 0.8200\n",
      "Epoch 12/100\n",
      "32/32 [==============================] - 1s 34ms/step - loss: 0.4419 - accuracy: 0.8188 - val_loss: 0.3207 - val_accuracy: 0.9400\n",
      "Epoch 13/100\n",
      "32/32 [==============================] - 1s 34ms/step - loss: 0.3773 - accuracy: 0.8562 - val_loss: 0.2937 - val_accuracy: 0.9000\n",
      "Epoch 14/100\n",
      "32/32 [==============================] - 1s 35ms/step - loss: 0.3545 - accuracy: 0.8813 - val_loss: 0.2297 - val_accuracy: 0.9600\n",
      "Epoch 15/100\n",
      "32/32 [==============================] - 1s 35ms/step - loss: 0.2817 - accuracy: 0.8875 - val_loss: 0.1692 - val_accuracy: 0.9600\n",
      "Epoch 16/100\n",
      "32/32 [==============================] - 1s 34ms/step - loss: 0.2563 - accuracy: 0.9187 - val_loss: 0.1518 - val_accuracy: 0.9800\n",
      "Epoch 17/100\n",
      "32/32 [==============================] - 1s 35ms/step - loss: 0.1671 - accuracy: 0.9563 - val_loss: 0.0916 - val_accuracy: 0.9800\n",
      "Epoch 18/100\n",
      "32/32 [==============================] - 1s 34ms/step - loss: 0.2051 - accuracy: 0.9438 - val_loss: 0.2670 - val_accuracy: 0.8600\n",
      "Epoch 19/100\n",
      "32/32 [==============================] - 1s 35ms/step - loss: 0.2321 - accuracy: 0.8938 - val_loss: 0.1199 - val_accuracy: 0.9600\n",
      "Epoch 20/100\n",
      "32/32 [==============================] - 1s 34ms/step - loss: 0.1632 - accuracy: 0.9688 - val_loss: 0.0879 - val_accuracy: 1.0000\n",
      "Epoch 21/100\n",
      "32/32 [==============================] - 1s 34ms/step - loss: 0.1558 - accuracy: 0.9500 - val_loss: 0.1081 - val_accuracy: 0.9600\n",
      "Epoch 22/100\n",
      "32/32 [==============================] - 1s 34ms/step - loss: 0.1487 - accuracy: 0.9375 - val_loss: 0.1376 - val_accuracy: 0.9600\n",
      "Epoch 23/100\n",
      "32/32 [==============================] - 1s 34ms/step - loss: 0.1619 - accuracy: 0.9375 - val_loss: 0.0828 - val_accuracy: 1.0000\n",
      "Epoch 24/100\n",
      "32/32 [==============================] - 1s 34ms/step - loss: 0.2137 - accuracy: 0.9312 - val_loss: 0.1449 - val_accuracy: 0.9600\n",
      "Epoch 25/100\n",
      "32/32 [==============================] - 1s 34ms/step - loss: 0.1318 - accuracy: 0.9750 - val_loss: 0.0839 - val_accuracy: 0.9800\n",
      "Epoch 26/100\n",
      "32/32 [==============================] - 1s 34ms/step - loss: 0.1196 - accuracy: 0.9625 - val_loss: 0.0578 - val_accuracy: 0.9800\n",
      "Epoch 27/100\n",
      "32/32 [==============================] - 1s 34ms/step - loss: 0.1013 - accuracy: 0.9688 - val_loss: 0.0799 - val_accuracy: 0.9800\n",
      "Epoch 28/100\n",
      "32/32 [==============================] - 1s 35ms/step - loss: 0.1069 - accuracy: 0.9563 - val_loss: 0.0310 - val_accuracy: 1.0000\n",
      "Epoch 29/100\n",
      "32/32 [==============================] - 1s 35ms/step - loss: 0.1762 - accuracy: 0.9375 - val_loss: 0.1514 - val_accuracy: 0.9200\n",
      "Epoch 30/100\n",
      "32/32 [==============================] - 1s 35ms/step - loss: 0.1067 - accuracy: 0.9688 - val_loss: 0.0689 - val_accuracy: 0.9800\n",
      "Epoch 31/100\n",
      "32/32 [==============================] - 1s 35ms/step - loss: 0.1112 - accuracy: 0.9750 - val_loss: 0.0283 - val_accuracy: 1.0000\n",
      "Epoch 32/100\n",
      "32/32 [==============================] - 1s 35ms/step - loss: 0.1563 - accuracy: 0.9375 - val_loss: 0.0476 - val_accuracy: 0.9800\n",
      "Epoch 33/100\n",
      "32/32 [==============================] - 1s 35ms/step - loss: 0.1836 - accuracy: 0.9187 - val_loss: 0.0796 - val_accuracy: 1.0000\n",
      "Epoch 34/100\n",
      "32/32 [==============================] - 1s 35ms/step - loss: 0.1114 - accuracy: 0.9563 - val_loss: 0.0152 - val_accuracy: 1.0000\n",
      "Epoch 35/100\n",
      "32/32 [==============================] - 1s 35ms/step - loss: 0.0749 - accuracy: 0.9750 - val_loss: 0.0952 - val_accuracy: 0.9600\n",
      "Epoch 36/100\n",
      "32/32 [==============================] - 1s 35ms/step - loss: 0.0646 - accuracy: 0.9750 - val_loss: 0.0096 - val_accuracy: 1.0000\n",
      "Epoch 37/100\n",
      "32/32 [==============================] - 1s 34ms/step - loss: 0.0920 - accuracy: 0.9688 - val_loss: 0.0507 - val_accuracy: 0.9800\n",
      "Epoch 38/100\n",
      "32/32 [==============================] - 1s 34ms/step - loss: 0.0721 - accuracy: 0.9750 - val_loss: 0.0866 - val_accuracy: 0.9600\n",
      "Epoch 39/100\n",
      "32/32 [==============================] - 1s 34ms/step - loss: 0.0775 - accuracy: 0.9875 - val_loss: 0.0807 - val_accuracy: 0.9800\n",
      "Epoch 40/100\n",
      "32/32 [==============================] - 1s 34ms/step - loss: 0.0564 - accuracy: 0.9875 - val_loss: 0.0749 - val_accuracy: 0.9600\n",
      "Epoch 41/100\n",
      "32/32 [==============================] - 1s 36ms/step - loss: 0.0588 - accuracy: 0.9688 - val_loss: 0.0352 - val_accuracy: 0.9800\n"
     ]
    }
   ],
   "source": [
    "# 모델을 실행합니다.\n",
    "history = model.fit(\n",
    "    train_generator,\n",
    "    epochs=100,\n",
    "    validation_data=test_generator,\n",
    "    validation_steps=10, \n",
    "    callbacks=[early_stopping_callback])"
   ]
  },
  {
   "cell_type": "code",
   "execution_count": 13,
   "metadata": {},
   "outputs": [],
   "source": [
    "# 검증셋과 학습셋의 오차를 저장합니다.\n",
    "y_vloss = history.history['val_loss']\n",
    "y_loss = history.history['loss']"
   ]
  },
  {
   "cell_type": "code",
   "execution_count": 17,
   "metadata": {},
   "outputs": [
    {
     "data": {
      "image/png": "[encoded data removed]",
      "text/plain": [
       "<Figure size 432x288 with 1 Axes>"
      ]
     },
     "metadata": {
      "needs_background": "light"
     },
     "output_type": "display_data"
    }
   ],
   "source": [
    "# 그래프로 표현해 봅니다.\n",
    "x_len = np.arange(len(y_loss))\n",
    "plt.plot(x_len, y_vloss, marker='.', c=\"red\", label='Testset_loss')\n",
    "plt.plot(x_len, y_loss, marker='.', c=\"blue\", label='Trainset_loss')\n",
    "# 그래프에 그리드를 주고 레이블을 표시하겠습니다.\n",
    "plt.legend(loc='upper right')\n",
    "plt.grid()\n",
    "plt.xlabel('epoch')\n",
    "plt.ylabel('loss')\n",
    "plt.show()\n"
   ]
  },
  {
   "cell_type": "code",
   "execution_count": null,
   "metadata": {},
   "outputs": [],
   "source": []
  },
  {
   "cell_type": "code",
   "execution_count": null,
   "metadata": {},
   "outputs": [],
   "source": []
  }
 ],
 "metadata": {
  "kernelspec": {
   "display_name": "Python 3.9.12 ('base')",
   "language": "python",
   "name": "python3"
  },
  "language_info": {
   "codemirror_mode": {
    "name": "ipython",
    "version": 3
   },
   "file_extension": ".py",
   "mimetype": "text/x-python",
   "name": "python",
   "nbconvert_exporter": "python",
   "pygments_lexer": "ipython3",
   "version": "3.9.12"
  },
  "orig_nbformat": 4,
  "vscode": {
   "interpreter": {
    "hash": "a077222d77dfe082b8f1dd562ad70e458ac2ab76993a0b248ab0476e32e9e8dd"
   }
  }
 },
 "nbformat": 4,
 "nbformat_minor": 2
}
