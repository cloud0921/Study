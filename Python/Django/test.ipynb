{
 "cells": [
  {
   "cell_type": "code",
   "execution_count": 1,
   "metadata": {},
   "outputs": [
    {
     "name": "stdout",
     "output_type": "stream",
     "text": [
      "Requirement already satisfied: Django==4.1.3 in c:\\users\\user\\anaconda3\\lib\\site-packages (4.1.3)\n",
      "Requirement already satisfied: tzdata in c:\\users\\user\\anaconda3\\lib\\site-packages (from Django==4.1.3) (2022.6)\n",
      "Requirement already satisfied: asgiref<4,>=3.5.2 in c:\\users\\user\\anaconda3\\lib\\site-packages (from Django==4.1.3) (3.5.2)\n",
      "Requirement already satisfied: sqlparse>=0.2.2 in c:\\users\\user\\anaconda3\\lib\\site-packages (from Django==4.1.3) (0.4.3)\n"
     ]
    }
   ],
   "source": [
    "!pip install Django==4.1.3"
   ]
  },
  {
   "cell_type": "code",
   "execution_count": null,
   "metadata": {},
   "outputs": [],
   "source": []
  }
 ],
 "metadata": {
  "kernelspec": {
   "display_name": "Python 3.9.12 ('base')",
   "language": "python",
   "name": "python3"
  },
  "language_info": {
   "codemirror_mode": {
    "name": "ipython",
    "version": 3
   },
   "file_extension": ".py",
   "mimetype": "text/x-python",
   "name": "python",
   "nbconvert_exporter": "python",
   "pygments_lexer": "ipython3",
   "version": "3.9.12"
  },
  "orig_nbformat": 4,
  "vscode": {
   "interpreter": {
    "hash": "a077222d77dfe082b8f1dd562ad70e458ac2ab76993a0b248ab0476e32e9e8dd"
   }
  }
 },
 "nbformat": 4,
 "nbformat_minor": 2
}
